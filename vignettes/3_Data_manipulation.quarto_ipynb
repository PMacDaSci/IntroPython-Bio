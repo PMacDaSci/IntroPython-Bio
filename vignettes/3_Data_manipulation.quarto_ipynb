{
  "cells": [
    {
      "cell_type": "markdown",
      "metadata": {},
      "source": [
        "---\n",
        "title: \"Data Manipulation with pandas\"\n",
        "---\n",
        "\n",
        "\n",
        "\n",
        "\n",
        "In this section, we will explore various data manipulation and analysis techniques using the Pandas library. We'll begin by learning how to set, update, or replace data within a DataFrame. Then, we'll cover how to handle missing data effectively. Next, we will delve into grouping data, transforming it, and joining different datasets to prepare for downstream analysis. Finally, we'll look at generating summary statistics to gain a deeper understanding of the underlying data.\n",
        "\n",
        "We will use the following DataFrames in this section.\n"
      ],
      "id": "215cd68f"
    },
    {
      "cell_type": "code",
      "metadata": {},
      "source": [
        "import numpy as np\n",
        "import pandas as pd\n",
        "\n",
        "metabric = pd.read_csv(\"https://zenodo.org/record/6450144/files/metabric_clinical_and_expression_data.csv\")"
      ],
      "id": "2841336d",
      "execution_count": null,
      "outputs": []
    },
    {
      "cell_type": "markdown",
      "metadata": {},
      "source": [
        "## Statistics on data\n",
        "\n",
        "The pandas library provides a wide range of statistical functions and methods to compute summary statistics for your data. Below provides some of the key statistical measures you can compute using this library. \n",
        "\n",
        "Consider the following dataset which contains 15 rows. Each row contains 8 features (columns). \n",
        " \n",
        "::: scrolling\n"
      ],
      "id": "d9df2647"
    },
    {
      "cell_type": "code",
      "metadata": {},
      "source": [
        "#metabric"
      ],
      "id": "912687a7",
      "execution_count": null,
      "outputs": []
    },
    {
      "cell_type": "markdown",
      "metadata": {},
      "source": [
        ":::\n",
        "\n",
        "You can compute the mean of a Series (a single column of data) or a DataFrame (a table of data) using the `.mean()` method.\n",
        "\n",
        "-   Calculate the mean value for a certain column: \n"
      ],
      "id": "7adcde89"
    },
    {
      "cell_type": "code",
      "metadata": {
        "md-indent": "    "
      },
      "source": [
        "#metabric['No of Surveys'].mean()"
      ],
      "id": "68db0f68",
      "execution_count": null,
      "outputs": []
    },
    {
      "cell_type": "markdown",
      "metadata": {},
      "source": [
        "-   Calculate the mean value for each column: \n"
      ],
      "id": "50f451ae"
    },
    {
      "cell_type": "code",
      "metadata": {
        "md-indent": "    "
      },
      "source": [
        "#metabric.mean(numeric_only = True)"
      ],
      "id": "520f521d",
      "execution_count": null,
      "outputs": []
    },
    {
      "cell_type": "markdown",
      "metadata": {},
      "source": [
        "-   Calculate the mean value for each row:\n"
      ],
      "id": "d6fa3792"
    },
    {
      "cell_type": "code",
      "metadata": {
        "md-indent": "    "
      },
      "source": [
        "#metabric.mean(axis=1, numeric_only = True)"
      ],
      "id": "bdf30cd3",
      "execution_count": null,
      "outputs": []
    },
    {
      "cell_type": "markdown",
      "metadata": {},
      "source": [
        "-   The median is the middle value of a dataset when the values are arranged in ascending order. It is not affected by extreme values (outliers) and is often used to describe the central tendency of data. In Pandas, you can compute the median using the `.median()` method.\n"
      ],
      "id": "29ae540f"
    },
    {
      "cell_type": "code",
      "metadata": {
        "md-indent": "    "
      },
      "source": [
        "#metabric.median(numeric_only = True)"
      ],
      "id": "198fb582",
      "execution_count": null,
      "outputs": []
    },
    {
      "cell_type": "markdown",
      "metadata": {},
      "source": [
        "-   The standard deviation measures the amount of variation or dispersion in a dataset. A lower standard deviation indicates that data points are close to the mean, while a higher standard deviation indicates greater variability. In Pandas, you can compute the standard deviation using the `.std()` method.\n"
      ],
      "id": "c9cb1dfa"
    },
    {
      "cell_type": "code",
      "metadata": {
        "md-indent": "    "
      },
      "source": [
        "#metabric.std(numeric_only = True)"
      ],
      "id": "821f9a8b",
      "execution_count": null,
      "outputs": []
    },
    {
      "cell_type": "markdown",
      "metadata": {},
      "source": [
        "-   Variance quantifies how much individual data points deviate from the mean. It is the square of the standard deviation. In Pandas, you can compute the variance using the `.var()` method.\n"
      ],
      "id": "fcbdb42b"
    },
    {
      "cell_type": "code",
      "metadata": {
        "md-indent": "    "
      },
      "source": [
        "metabric.var(numeric_only = True)"
      ],
      "id": "340c55de",
      "execution_count": null,
      "outputs": []
    },
    {
      "cell_type": "markdown",
      "metadata": {},
      "source": [
        "-   You can also compute the sum of values using `.sum()` and count the total number of non-missing values using `.count()`.\n"
      ],
      "id": "2855ba39"
    },
    {
      "cell_type": "code",
      "metadata": {
        "md-indent": "    "
      },
      "source": [
        "metabric.sum(numeric_only = True)"
      ],
      "id": "59fc884a",
      "execution_count": null,
      "outputs": []
    },
    {
      "cell_type": "code",
      "metadata": {
        "md-indent": "    "
      },
      "source": [
        "metabric.count()"
      ],
      "id": "b16a5ede",
      "execution_count": null,
      "outputs": []
    },
    {
      "cell_type": "code",
      "metadata": {
        "md-indent": "    "
      },
      "source": [
        "metabric[\"Mutation_count\"].sum()"
      ],
      "id": "8c8f797f",
      "execution_count": null,
      "outputs": []
    },
    {
      "cell_type": "markdown",
      "metadata": {},
      "source": [
        "Here is a quick reference summary table of common useful functions.\n",
        "\n",
        "\n",
        "\n",
        "\n",
        "```{=html}\n",
        "<table>\n",
        "  <thead>\n",
        "    <tr>\n",
        "      <th>Function</th>\n",
        "      <th>Description</th>\n",
        "    </tr>\n",
        "  </thead>\n",
        "  <tbody>\n",
        "    <tr>\n",
        "      <td align=\"center\"><code>count</code></td>\n",
        "      <td>Number of non-NA observations</td>\n",
        "    </tr>\n",
        "    <tr>\n",
        "      <td align=\"center\"><code>sum</code></td>\n",
        "      <td>Sum of values</td>\n",
        "    </tr>\n",
        "    <tr>\n",
        "      <td align=\"center\"><code>mean</code></td>\n",
        "      <td>Mean of values</td>\n",
        "    </tr>\n",
        "    <tr>\n",
        "      <td align=\"center\"><code>median</code></td>\n",
        "      <td>Arithmetic median of values</td>\n",
        "    </tr>\n",
        "    <tr>\n",
        "      <td align=\"center\"><code>min</code></td>\n",
        "      <td>Minimum</td>\n",
        "    </tr>\n",
        "    <tr>\n",
        "      <td align=\"center\"><code>max</code></td>\n",
        "      <td>Maximum</td>\n",
        "    </tr>\n",
        "    <tr>\n",
        "      <td align=\"center\"><code>mode</code></td>\n",
        "      <td>Mode</td>\n",
        "    </tr>\n",
        "    <tr>\n",
        "      <td align=\"center\"><code>abs</code></td>\n",
        "      <td>Absolute Value</td>\n",
        "    </tr>\n",
        "    <tr>\n",
        "      <td align=\"center\"><code>prod</code></td>\n",
        "      <td>Product of values</td>\n",
        "    </tr>\n",
        "    <tr>\n",
        "      <td align=\"center\"><code>std</code></td>\n",
        "      <td>Bessel-corrected sample standard deviation</td>\n",
        "    </tr>\n",
        "    <tr>\n",
        "      <td align=\"center\"><code>var</code></td>\n",
        "      <td>Unbiased variance</td>\n",
        "    </tr>\n",
        "    <tr>\n",
        "      <td align=\"center\"><code>sem</code></td>\n",
        "      <td>Standard error of the mean</td>\n",
        "    </tr>\n",
        "    <tr>\n",
        "      <td align=\"center\"><code>skew</code></td>\n",
        "      <td>Sample skewness (3rd moment)</td>\n",
        "    </tr>\n",
        "    <tr>\n",
        "      <td align=\"center\"><code>kurt</code></td>\n",
        "      <td>Sample kurtosis (4th moment)</td>\n",
        "    </tr>\n",
        "    <tr>\n",
        "      <td align=\"center\"><code>quantile</code></td>\n",
        "      <td>Sample quantile (value at %)</td>\n",
        "    </tr>\n",
        "    <tr>\n",
        "      <td align=\"center\"><code>cumsum</code></td>\n",
        "      <td>Cumulative sum</td>\n",
        "    </tr>\n",
        "    <tr>\n",
        "      <td align=\"center\"><code>cumprod</code></td>\n",
        "      <td>Cumulative product</td>\n",
        "    </tr>\n",
        "    <tr>\n",
        "      <td align=\"center\"><code>cummax</code></td>\n",
        "      <td>Cumulative maximum</td>\n",
        "    </tr>\n",
        "    <tr>\n",
        "      <td align=\"center\"><code>cummin</code></td>\n",
        "      <td>Cumulative minimum</td>\n",
        "    </tr>\n",
        "  </tbody>\n",
        "</table>\n",
        "```\n",
        "\n",
        "\n",
        "\n",
        "\n",
        "Another useful function to count the frequency of values is shown below.\n",
        "\n",
        "Consider the DataFrame,\n"
      ],
      "id": "201d43c5"
    },
    {
      "cell_type": "code",
      "metadata": {},
      "source": [
        "d = {\n",
        "  \"a\": pd.Series(np.random.randint(0, 5, size=10)),\n",
        "  \"b\": pd.Series(np.random.randint(-3, 3, size=10))\n",
        "}\n",
        "df2 = pd.DataFrame(d)\n",
        "df2"
      ],
      "id": "c9655a2e",
      "execution_count": null,
      "outputs": []
    },
    {
      "cell_type": "markdown",
      "metadata": {},
      "source": [
        "-   Frequency of values in all rows:\n"
      ],
      "id": "bf4624f6"
    },
    {
      "cell_type": "code",
      "metadata": {
        "md-indent": "    "
      },
      "source": [
        "df2.value_counts()"
      ],
      "id": "b20ef461",
      "execution_count": null,
      "outputs": []
    },
    {
      "cell_type": "markdown",
      "metadata": {},
      "source": [
        "-   Frequency of values in a single column:\n"
      ],
      "id": "66ab8755"
    },
    {
      "cell_type": "code",
      "metadata": {
        "md-indent": "    "
      },
      "source": [
        "df2['a'].value_counts()"
      ],
      "id": "07427bd6",
      "execution_count": null,
      "outputs": []
    },
    {
      "cell_type": "markdown",
      "metadata": {},
      "source": [
        "Additionally, two powerful functions, `agg` and `transform`, allow you to perform calculations and transformations on DataFrames. These two functions applies user defined function that reduces or broadcasts its results, repectively. However, these functions serve different purposes and have distinct use cases and we will explore these in detail later.  \n",
        "\n",
        "## Missing data\n",
        "\n",
        "Handling missing values is an essential part of data pre-processing and analysis in Pandas. Missing values can arise due to various reasons, such as data collection errors, incomplete data or sensor failures. \n",
        "\n",
        "Let's create a DataFrame with missing values.\n",
        "\n",
        "Consider the following DataFrame:\n"
      ],
      "id": "b606004c"
    },
    {
      "cell_type": "code",
      "metadata": {},
      "source": [
        "df = pd.DataFrame(np.random.randn(6, 4), index=['a', 'b', 'c', 'd', 'e', 'f'], columns=list(\"ABCD\"))\n",
        "\n",
        "dates = pd.date_range(\"20130101\", periods=6)\n",
        "df[\"E\"] = dates\n",
        "\n",
        "s1 = pd.Series([1, 2, 3, 4, 5, 6], index=['a', 'b', 'c', 'd', 'e', 'f'])\n",
        "df[\"F\"] = s1\n",
        "df"
      ],
      "id": "9b169395",
      "execution_count": null,
      "outputs": []
    },
    {
      "cell_type": "markdown",
      "metadata": {},
      "source": [
        "Re-indexing allows you to change/add/delete the index on a specified axis. This returns a copy of the data which includes several missing values. \n"
      ],
      "id": "8bae282c"
    },
    {
      "cell_type": "code",
      "metadata": {},
      "source": [
        "df1 = df.reindex(index=['a', 'b', 'c', 'h', 'd', 'e', 'f', 'g'], columns=list(df.columns) + [\"G\", \"H\"])\n",
        "df1.loc['c' : 'f', \"G\"] = 1\n",
        "df1.loc['h','C'] = 0.634336\n",
        "df1"
      ],
      "id": "cea6e0e2",
      "execution_count": null,
      "outputs": []
    },
    {
      "cell_type": "markdown",
      "metadata": {},
      "source": [
        "### Detecting missing values\n",
        "\n",
        "Pandas provides several methods for detecting and dealing with missing values.\n",
        "\n",
        "`isna()` and `isnull()` methods return a DataFrame of the same shape as the input, with Boolean values indicating whether each element is missing (`True`) or not (`False`).\n"
      ],
      "id": "a69f75f8"
    },
    {
      "cell_type": "code",
      "metadata": {},
      "source": [
        "pd.isna(df1)"
      ],
      "id": "1e2d980e",
      "execution_count": null,
      "outputs": []
    },
    {
      "cell_type": "code",
      "metadata": {},
      "source": [
        "pd.isnull(df1)"
      ],
      "id": "3e9e35a1",
      "execution_count": null,
      "outputs": []
    },
    {
      "cell_type": "markdown",
      "metadata": {},
      "source": [
        "`notna()` and `notnull()` methods are the opposite of `isna() `and `isnull()`. They return `True` for non-missing values and `False` for missing values.\n"
      ],
      "id": "556d34e6"
    },
    {
      "cell_type": "code",
      "metadata": {},
      "source": [
        "pd.notna(df1)"
      ],
      "id": "c2b5cd42",
      "execution_count": null,
      "outputs": []
    },
    {
      "cell_type": "code",
      "metadata": {},
      "source": [
        "pd.notnull(df1)"
      ],
      "id": "26d74b55",
      "execution_count": null,
      "outputs": []
    },
    {
      "cell_type": "markdown",
      "metadata": {},
      "source": [
        "Check if a column does not contain missing values:\n"
      ],
      "id": "7d9d5611"
    },
    {
      "cell_type": "code",
      "metadata": {},
      "source": [
        "df1[\"G\"].notna()"
      ],
      "id": "5afa2c1c",
      "execution_count": null,
      "outputs": []
    },
    {
      "cell_type": "markdown",
      "metadata": {},
      "source": [
        "Subsetting rows to return rows that does not contain missing values in column `G`:\n"
      ],
      "id": "436749a5"
    },
    {
      "cell_type": "code",
      "metadata": {},
      "source": [
        "df1[df1[\"G\"].notna()]"
      ],
      "id": "769574a9",
      "execution_count": null,
      "outputs": []
    },
    {
      "cell_type": "markdown",
      "metadata": {},
      "source": [
        "The `info()` method provides a summary of the DataFrame, including the count of non-null values in each column.\n"
      ],
      "id": "02569469"
    },
    {
      "cell_type": "code",
      "metadata": {},
      "source": [
        "df1.info()"
      ],
      "id": "cb4a0252",
      "execution_count": null,
      "outputs": []
    },
    {
      "cell_type": "markdown",
      "metadata": {},
      "source": [
        "### Handling missing values\n",
        "\n",
        "Once you've detected missing values, you can choose from several strategies to handle them.\n",
        "\n",
        "Consider the following DataFrame,\n"
      ],
      "id": "11e66c3f"
    },
    {
      "cell_type": "code",
      "metadata": {},
      "source": [
        "df1"
      ],
      "id": "07d9a555",
      "execution_count": null,
      "outputs": []
    },
    {
      "cell_type": "markdown",
      "metadata": {},
      "source": [
        "#### Dropping missing values\n",
        "\n",
        "Consider the following DataFrame for this example,\n"
      ],
      "id": "81669d17"
    },
    {
      "cell_type": "code",
      "metadata": {},
      "source": [
        "# dataframe excluding column H\n",
        "df_without_colH = df1.loc[:, \"A\":\"G\"]   \n",
        "df_without_colH"
      ],
      "id": "05465c4f",
      "execution_count": null,
      "outputs": []
    },
    {
      "cell_type": "markdown",
      "metadata": {},
      "source": [
        "##### Dropping missing values by rows\n",
        "\n",
        "-   Drop the rows where at least one element is missing:\n"
      ],
      "id": "f8cc7988"
    },
    {
      "cell_type": "code",
      "metadata": {
        "md-indent": "    "
      },
      "source": [
        "df_without_colH.dropna()"
      ],
      "id": "0b28759a",
      "execution_count": null,
      "outputs": []
    },
    {
      "cell_type": "markdown",
      "metadata": {},
      "source": [
        "-   Drop rows that have all missing data:\n"
      ],
      "id": "13367a79"
    },
    {
      "cell_type": "code",
      "metadata": {
        "md-indent": "    "
      },
      "source": [
        "df_without_colH.dropna(how=\"all\")"
      ],
      "id": "0dc7000f",
      "execution_count": null,
      "outputs": []
    },
    {
      "cell_type": "markdown",
      "metadata": {},
      "source": [
        "-   Drop rows that have any missing data:\n"
      ],
      "id": "dd2efec9"
    },
    {
      "cell_type": "code",
      "metadata": {
        "md-indent": "    "
      },
      "source": [
        "df_without_colH.dropna(how=\"any\")"
      ],
      "id": "533def59",
      "execution_count": null,
      "outputs": []
    },
    {
      "cell_type": "markdown",
      "metadata": {},
      "source": [
        "-   Keep only the rows with at least 2 non-NA values:\n"
      ],
      "id": "b0e6255f"
    },
    {
      "cell_type": "code",
      "metadata": {
        "md-indent": "    "
      },
      "source": [
        "df_without_colH.dropna(thresh=2)"
      ],
      "id": "3bf88185",
      "execution_count": null,
      "outputs": []
    },
    {
      "cell_type": "markdown",
      "metadata": {},
      "source": [
        "##### Dropping missing values by columns\n",
        "\n",
        "-   Consider the following DataFrame for the remaining examples,\n"
      ],
      "id": "618b0441"
    },
    {
      "cell_type": "code",
      "metadata": {
        "md-indent": "    "
      },
      "source": [
        "df1.loc['g','C'] = 0.877525\n",
        "df1"
      ],
      "id": "0cacdc13",
      "execution_count": null,
      "outputs": []
    },
    {
      "cell_type": "markdown",
      "metadata": {},
      "source": [
        "-   Drop the columns where at least one element is missing:\n"
      ],
      "id": "a93b2587"
    },
    {
      "cell_type": "code",
      "metadata": {
        "md-indent": "    "
      },
      "source": [
        "df1.dropna(axis='columns') # same as axis=1"
      ],
      "id": "799db2f6",
      "execution_count": null,
      "outputs": []
    },
    {
      "cell_type": "markdown",
      "metadata": {},
      "source": [
        "-   Drop columns that have all missing data:\n"
      ],
      "id": "06318384"
    },
    {
      "cell_type": "code",
      "metadata": {
        "md-indent": "    "
      },
      "source": [
        "df1.dropna(how=\"all\", axis=1)"
      ],
      "id": "14e99d53",
      "execution_count": null,
      "outputs": []
    },
    {
      "cell_type": "markdown",
      "metadata": {},
      "source": [
        "-   Drop columns that have any missing data (shown as NaN):  \n"
      ],
      "id": "c6de98b0"
    },
    {
      "cell_type": "code",
      "metadata": {
        "md-indent": "    "
      },
      "source": [
        "df1.dropna(how=\"any\", axis=1)"
      ],
      "id": "b14bde90",
      "execution_count": null,
      "outputs": []
    },
    {
      "cell_type": "markdown",
      "metadata": {},
      "source": [
        "-   Keep only the columns with at least 6 non-NA values:\n"
      ],
      "id": "290ad573"
    },
    {
      "cell_type": "code",
      "metadata": {
        "md-indent": "    "
      },
      "source": [
        "df1.dropna(thresh=6, axis=1)"
      ],
      "id": "411811be",
      "execution_count": null,
      "outputs": []
    },
    {
      "cell_type": "markdown",
      "metadata": {},
      "source": [
        "-   Define in which columns to look for missing values:\n"
      ],
      "id": "0ee58169"
    },
    {
      "cell_type": "code",
      "metadata": {
        "md-indent": "    "
      },
      "source": [
        "df1.dropna(subset=[\"B\", \"G\"])"
      ],
      "id": "45f0e24a",
      "execution_count": null,
      "outputs": []
    },
    {
      "cell_type": "markdown",
      "metadata": {},
      "source": [
        "#### Filling missing values\n",
        "\n",
        "You can fill missing values with a specific value or a calculated value using the `fillna()` method.\n",
        "\n",
        "Consider the following DataFrame,\n"
      ],
      "id": "cf87c312"
    },
    {
      "cell_type": "code",
      "metadata": {},
      "source": [
        "df1"
      ],
      "id": "02f97569",
      "execution_count": null,
      "outputs": []
    },
    {
      "cell_type": "markdown",
      "metadata": {},
      "source": [
        "##### Replace missing values with a scalar value\n",
        "    \n",
        "-   Fill missing values with 0:\n"
      ],
      "id": "37d6ba5c"
    },
    {
      "cell_type": "code",
      "metadata": {
        "md-indent": "    "
      },
      "source": [
        "df1.fillna(0)"
      ],
      "id": "0048f214",
      "execution_count": null,
      "outputs": []
    },
    {
      "cell_type": "markdown",
      "metadata": {},
      "source": [
        "-   Fill missing values with a scalar, but limit the number of column fills to 2:\n"
      ],
      "id": "d5d5c4ac"
    },
    {
      "cell_type": "code",
      "metadata": {
        "md-indent": "    "
      },
      "source": [
        "df1.fillna(12, axis='columns', limit=2)"
      ],
      "id": "06b5eea3",
      "execution_count": null,
      "outputs": []
    },
    {
      "cell_type": "markdown",
      "metadata": {},
      "source": [
        "##### Fill gaps forward or backward\n",
        "\n",
        "-   Propogate missing values forward:\n"
      ],
      "id": "dac4ff6a"
    },
    {
      "cell_type": "code",
      "metadata": {
        "md-indent": "    "
      },
      "source": [
        "df1.ffill() # ffill ≡ pad ≡ fillna(method='ffill')"
      ],
      "id": "a3964c82",
      "execution_count": null,
      "outputs": []
    },
    {
      "cell_type": "markdown",
      "metadata": {},
      "source": [
        "-   Propogate missing values backward along rows:\n"
      ],
      "id": "1b8a6f9e"
    },
    {
      "cell_type": "code",
      "metadata": {
        "md-indent": "    "
      },
      "source": [
        "df1.bfill() # bfill ≡ backfill ≡ fillna(method='bfill')"
      ],
      "id": "f6dc0986",
      "execution_count": null,
      "outputs": []
    },
    {
      "cell_type": "markdown",
      "metadata": {},
      "source": [
        "##### Fill with a Pandas object\n",
        "\n",
        "-   Fill the missing values of a column with the mean of the column:\n"
      ],
      "id": "60526303"
    },
    {
      "cell_type": "code",
      "metadata": {
        "md-indent": "    "
      },
      "source": [
        "df1.fillna(df1.mean())"
      ],
      "id": "1dab9b35",
      "execution_count": null,
      "outputs": []
    },
    {
      "cell_type": "markdown",
      "metadata": {},
      "source": [
        "-   Fill only a subset of the columns using the corresponding median\n"
      ],
      "id": "948c8780"
    },
    {
      "cell_type": "code",
      "metadata": {
        "md-indent": "    "
      },
      "source": [
        "df1.fillna(df1.median()[\"F\":\"G\"])"
      ],
      "id": "1c862845",
      "execution_count": null,
      "outputs": []
    },
    {
      "cell_type": "markdown",
      "metadata": {},
      "source": [
        "##### Interpolation\n",
        "\n",
        "The interpolate method is used to fill in missing values with estimated values based on the surrounding data points. It's particularly useful for time series data or datasets where values are expected to follow a pattern.\n",
        "\n",
        "The interpolate method employs various interpolation techniques to estimate missing values, including linear interpolation, polynomial interpolation, and more. The specific interpolation method used depends on the kind of data and the desired behavior.\n",
        "\n",
        "-   **Linear Interpolation**: Linear interpolation is the default method used by interpolate. It estimates missing values by drawing a straight line between two adjacent known data points and filling in the missing value with a value along that line. This method is suitable for data that appears to change linearly over time or between data points.\n",
        "-   **Polynomial Interpolation**: Polynomial interpolation uses higher-degree polynomial functions to estimate missing values. This method can capture more complex relationships between data points but may be susceptible to overfitting if not used carefully.\n",
        "-   **Time-Based Interpolation**: When working with time series data, you can use the method parameter to specify time-based interpolation methods such as 'time', 'index', or 'values'. These methods consider the time or index values to estimate missing values.\n",
        "\n",
        "Here's an example using linear interpolation:\n"
      ],
      "id": "d4312a42"
    },
    {
      "cell_type": "code",
      "metadata": {},
      "source": [
        "df1.interpolate()"
      ],
      "id": "a4142d44",
      "execution_count": null,
      "outputs": []
    },
    {
      "cell_type": "markdown",
      "metadata": {},
      "source": [
        "## Grouping data\n",
        "\n",
        "The `groupby` function is a powerful feature within pandas that allows you to group and aggregate data in a DataFrame based on one or more columns. This can be especially useful when you want to perform summary statistics, calculations, or transformations on subsets of your data based on certain criteria. It involves one or more of the following steps:\n",
        "\n",
        "-   **Splitting:** The first step in a groupby operation is to split the DataFrame into groups based on the values in one or more columns. You specify the column(s) by which you want to group your data. This column is often referred to as the \"key\" or \"grouping column\". Each unique value in the grouping column(s) forms a group, and the rows in the DataFrame are distributed among these groups.\n",
        "-   **Applying a Function:** After splitting the data into groups, you can apply various aggregation or transformation functions to each group. These functions are typically applied to one or more columns in each group. Common aggregation functions include sum, mean, count, min, max, and more. You can also apply custom functions or perform complex operations on the grouped data.\n",
        "    -   **Aggregation:** compute a summary statistic (or statistics) for each group. Examples: compute group sums or means, compute group size. \n",
        "    -   **Transformation:** perform some group-specific computations and return a like-indexed object. Examples: standardize data (zscore) within a group, filling NAs within groups with a value derived from each group.\n",
        "    -   **Filtration:** discard some groups, according to a group-wise computation that evaluates to True or False. Examples: discard data that belong to groups with only a few members, filter out data based on the group sum or mean.\n",
        "-   **Combining Results:** Once the specified function(s) are applied to each group, the results are combined into a new DataFrame or data structure. This final result will often have a hierarchical structure, with the grouping columns as index levels.\n",
        "\n",
        "Consider the following metabric dataset for the examples listed below.\n",
        "\n",
        "::: scrolling\n"
      ],
      "id": "c3dbec4c"
    },
    {
      "cell_type": "code",
      "metadata": {},
      "source": [
        "# Load the Metabric dataset from the URL into a DataFrame\n",
        "metabric = pd.read_csv(\"https://zenodo.org/record/6450144/files/metabric_clinical_and_expression_data.csv\")\n",
        "metabric"
      ],
      "id": "723584ce",
      "execution_count": null,
      "outputs": []
    },
    {
      "cell_type": "markdown",
      "metadata": {},
      "source": [
        ":::\n",
        "\n",
        "### Aggregation\n",
        "\n",
        "This is primarily used for aggregating data (within groups when you use `groupby`). It allows you to apply one or more aggregation functions to each group and obtain a summarized result for each group.\n",
        "\n",
        "-   Calculate the total number of patients, categorized by cancer type.\n"
      ],
      "id": "22d62c62"
    },
    {
      "cell_type": "code",
      "metadata": {
        "md-indent": "    "
      },
      "source": [
        "#| eval: false\n",
        "metabric.groupby(\"Cancer_type\")[\"Patient_ID\"].count()"
      ],
      "id": "897bca58",
      "execution_count": null,
      "outputs": []
    },
    {
      "cell_type": "code",
      "metadata": {
        "md-indent": "    "
      },
      "source": [
        "#| echo: false\n",
        "metabric.groupby(\"Cancer_type\")[\"Patient_ID\"].count().to_frame()"
      ],
      "id": "01450fb3",
      "execution_count": null,
      "outputs": []
    },
    {
      "cell_type": "markdown",
      "metadata": {},
      "source": [
        "    `count()` computes the number of non-NA values in the groups whereas `size()` computes the number of values in each group. To demonstrate the difference between these two methods, group the metabric dataset by `3-gene-classifier` and find the number of values in each group based on `Tumour_size` column. \n"
      ],
      "id": "2271544e"
    },
    {
      "cell_type": "code",
      "metadata": {
        "md-indent": "    "
      },
      "source": [
        "#| eval: false\n",
        "metabric.groupby(\"3-gene_classifier\")[\"Tumour_size\"].count()"
      ],
      "id": "fe78e3f3",
      "execution_count": null,
      "outputs": []
    },
    {
      "cell_type": "code",
      "metadata": {
        "md-indent": "    "
      },
      "source": [
        "#| echo: false\n",
        "metabric.groupby(\"3-gene_classifier\")[\"Tumour_size\"].count().to_frame()"
      ],
      "id": "4484e347",
      "execution_count": null,
      "outputs": []
    },
    {
      "cell_type": "code",
      "metadata": {
        "md-indent": "    "
      },
      "source": [
        "#| eval: false\n",
        "metabric.groupby(\"3-gene_classifier\")[\"Tumour_size\"].size()"
      ],
      "id": "6d3902cb",
      "execution_count": null,
      "outputs": []
    },
    {
      "cell_type": "code",
      "metadata": {
        "md-indent": "    "
      },
      "source": [
        "#| echo: false\n",
        "metabric.groupby(\"3-gene_classifier\")[\"Tumour_size\"].size().to_frame()"
      ],
      "id": "a1026bc8",
      "execution_count": null,
      "outputs": []
    },
    {
      "cell_type": "markdown",
      "metadata": {},
      "source": [
        "-   Determine the median age at diagnosis for each type of vital status.\n"
      ],
      "id": "cae07884"
    },
    {
      "cell_type": "code",
      "metadata": {
        "md-indent": "    "
      },
      "source": [
        "#| eval: false\n",
        "metabric.groupby(\"Vital_status\")[\"Age_at_diagnosis\"].median()"
      ],
      "id": "b65275b2",
      "execution_count": null,
      "outputs": []
    },
    {
      "cell_type": "code",
      "metadata": {
        "md-indent": "    "
      },
      "source": [
        "#| echo: false\n",
        "metabric.groupby(\"Vital_status\")[\"Age_at_diagnosis\"].median().to_frame()"
      ],
      "id": "5f60b280",
      "execution_count": null,
      "outputs": []
    },
    {
      "cell_type": "markdown",
      "metadata": {},
      "source": [
        "-   Calculate the total, mean, and standard deviation of Tumour_size for each combination of cancer type and ER status.\n"
      ],
      "id": "f3fa8efe"
    },
    {
      "cell_type": "code",
      "metadata": {
        "md-indent": "    "
      },
      "source": [
        "grouped = metabric.groupby([\"Cancer_type\", \"ER_status\"])\n",
        "grouped[\"Tumour_size\"].agg(['sum','mean','std'])"
      ],
      "id": "89252984",
      "execution_count": null,
      "outputs": []
    },
    {
      "cell_type": "markdown",
      "metadata": {},
      "source": [
        "### Transformation\n",
        "\n",
        "This is used for element-wise transformations. It applies a given function to each element in a DataFrame or Series and returns a new Series with the same index as the original DataFrame. This function is commonly used when you want to broadcast a computed value back to the original DataFrame, maintaining the original shape of the data.\n",
        "\n",
        "-   Compute the difference between adjacent values of expression of ESR1 within each group of cancer types.\n"
      ],
      "id": "a72bdfc5"
    },
    {
      "cell_type": "code",
      "metadata": {
        "md-indent": "    "
      },
      "source": [
        "#| eval: false\n",
        "metabric.groupby(\"Cancer_type\")[\"ESR1\"].diff()"
      ],
      "id": "3932e50e",
      "execution_count": null,
      "outputs": []
    },
    {
      "cell_type": "code",
      "metadata": {
        "md-indent": "    "
      },
      "source": [
        "#| echo: false\n",
        "metabric.groupby(\"Cancer_type\")[\"ESR1\"].diff().to_frame()"
      ],
      "id": "c8b615e0",
      "execution_count": null,
      "outputs": []
    },
    {
      "cell_type": "markdown",
      "metadata": {},
      "source": [
        "-   Compute the cumulative sum of mutation count within each integrative cluster group. \n"
      ],
      "id": "abe124af"
    },
    {
      "cell_type": "code",
      "metadata": {
        "md-indent": "    "
      },
      "source": [
        "#| eval: false\n",
        "metabric.groupby(\"Chemotherapy\")[\"Mutation_count\"].transform(\"cumsum\")"
      ],
      "id": "71e6103d",
      "execution_count": null,
      "outputs": []
    },
    {
      "cell_type": "code",
      "metadata": {
        "md-indent": "    "
      },
      "source": [
        "#| echo: false\n",
        "metabric.groupby(\"Chemotherapy\")[\"Mutation_count\"].transform(\"cumsum\").to_frame()"
      ],
      "id": "70705605",
      "execution_count": null,
      "outputs": []
    },
    {
      "cell_type": "markdown",
      "metadata": {},
      "source": [
        "    -   Convert the survival time which is given in months to years. \n"
      ],
      "id": "64bbc713"
    },
    {
      "cell_type": "code",
      "metadata": {
        "md-indent": "    "
      },
      "source": [
        "#| eval: false\n",
        "metabric[\"Survival_time\"].transform(lambda x: x / 12)"
      ],
      "id": "9fd87946",
      "execution_count": null,
      "outputs": []
    },
    {
      "cell_type": "code",
      "metadata": {
        "md-indent": "    "
      },
      "source": [
        "#| echo: false\n",
        "metabric[\"Survival_time\"].transform(lambda x: x / 12)"
      ],
      "id": "d46b5458",
      "execution_count": null,
      "outputs": []
    },
    {
      "cell_type": "markdown",
      "metadata": {},
      "source": [
        "    A lambda function in Python is a small, anonymous, and inline function. It is also known as a lambda expression or lambda notation. Lambda functions are a way to create small, one-time-use functions without needing to define them using the def keyword. Lambda functions are typically used for short, simple operations where defining a full function using def would be overly verbose.\n",
        "    \n",
        "    ``` python\n",
        "    lambda arguments: expression\n",
        "    ```\n",
        "    \n",
        "    Here's a simple example to illustrate the use of lambda functions:\n"
      ],
      "id": "92069652"
    },
    {
      "cell_type": "code",
      "metadata": {
        "md-indent": "    "
      },
      "source": [
        "# Regular function to calculate the square of a number\n",
        "def square(x):\n",
        "    return x ** 2\n",
        "\n",
        "# Equivalent lambda function to calculate the square of a number\n",
        "square_lambda = lambda x: x ** 2"
      ],
      "id": "ae2f3f7a",
      "execution_count": null,
      "outputs": []
    },
    {
      "cell_type": "markdown",
      "metadata": {},
      "source": [
        "### Filtration\n",
        "\n",
        "This is the process of selecting rows from a DataFrame based on grouping. It may either filter out entire groups, part of groups, or both. \n",
        "\n",
        "-   Select the 3rd row of each group categorized based on cancer type.\n"
      ],
      "id": "82397d3e"
    },
    {
      "cell_type": "code",
      "metadata": {
        "md-indent": "    "
      },
      "source": [
        "metabric.groupby(\"Cancer_type\").nth(3)"
      ],
      "id": "3054b01c",
      "execution_count": null,
      "outputs": []
    },
    {
      "cell_type": "markdown",
      "metadata": {},
      "source": [
        "-   Print the top rows of each group categorized based on cancer type and three gene classifier.\n"
      ],
      "id": "2f6c0f00"
    },
    {
      "cell_type": "code",
      "metadata": {
        "md-indent": "    "
      },
      "source": [
        "metabric.groupby([\"Cancer_type\", \"3-gene_classifier\"]).head()"
      ],
      "id": "b59fd3a0",
      "execution_count": null,
      "outputs": []
    },
    {
      "cell_type": "markdown",
      "metadata": {},
      "source": [
        "### `apply` function\n",
        "\n",
        "Some operations on the grouped data might not fit into the aggregation, transformation, or filtration categories. For these, you can use the `apply` function.\n",
        "\n",
        "-   Select all patients with age between 50 and 70 for each group categorized based on cancer type.\n"
      ],
      "id": "c839e1be"
    },
    {
      "cell_type": "code",
      "metadata": {},
      "source": [
        "metabric.groupby('ER_status')[\"Age_at_diagnosis\"].apply(lambda x: x[(x >= 50) & (x <= 70)])"
      ],
      "id": "aab765b3",
      "execution_count": null,
      "outputs": []
    },
    {
      "cell_type": "markdown",
      "metadata": {},
      "source": [
        "::: scrolling\n"
      ],
      "id": "98b88363"
    },
    {
      "cell_type": "code",
      "metadata": {},
      "source": [
        "# Filter the DataFrame directly based on 'Age_at_diagnosis' and then group by 'ER_status'\n",
        "filtered_df = metabric[(metabric['Age_at_diagnosis'] >= 50) & (metabric['Age_at_diagnosis'] <= 70)].groupby('ER_status')\n",
        "\n",
        "# Display each group in the filtered DataFrame\n",
        "for cancer_type, group in filtered_df:\n",
        "    print(f\"Cancer Type: {cancer_type}\")\n",
        "    print(group)\n",
        "    print()  # For better readability"
      ],
      "id": "6c351e5e",
      "execution_count": null,
      "outputs": []
    },
    {
      "cell_type": "markdown",
      "metadata": {},
      "source": [
        ":::\n",
        "\n",
        "### `assign` function\n",
        "\n",
        "This function is used to create new columns or modify existing columns in a DataFrame in a concise and flexible way. It returns a new DataFrame with the added or updated columns while keeping the original DataFrame unchanged, unless explicitly reassigned.\n",
        "\n",
        "Create a new column named `Tumor_size_cm` in the metabric DataFrame to represent tumor size in centimeters.\n"
      ],
      "id": "42a52408"
    },
    {
      "cell_type": "code",
      "metadata": {},
      "source": [
        "metabric.assign(Tumour_size_cm = metabric.Tumour_size / 10)"
      ],
      "id": "1d156882",
      "execution_count": null,
      "outputs": []
    },
    {
      "cell_type": "markdown",
      "metadata": {},
      "source": [
        "## Tidy Data\n",
        "\n",
        "Tidy data is a structured and organized format for presenting data that follows a simple convention: variables are placed in columns, observations are placed in rows and values are placed in cells. This standardized arrangement makes it easy to work with and analyze data efficiently. The principles of tidy data, are designed to promote consistency and ease of use in data analysis.\n",
        "\n",
        "![](images/tidy-data-pandas.png){fig-align=\"center\"}\n",
        "\n",
        "Data is often entered in a wide format, where each row typically represents a site, subject, or patient, and there are multiple observation variables containing the same type of data.\n",
        "\n",
        "For instance, consider the AirPassengers dataset. It contains information on monthly airline passenger numbers from 1949 to 1960. In this dataset, each row corresponds to a single year, and the columns represent each month from January to December.\n",
        "\n",
        "![](images/airpassengers.png)\n",
        "\n",
        "Wide format is intuitive for data entry. But it is less so for data analysis. Consider calculating the monthly mean; where would you place it? Would it be another row?\n",
        "\n",
        "Data needs to be reshaped to conform to the tidy data structure. It involves using two primary verbs (or pairs of opposites):\n",
        "\n",
        "-   Gather columns into rows (`melt()`).\n",
        "-   Spread rows into columns (`pivot()`).\n",
        "\n",
        "### Converting data from wide to long format\n",
        "\n",
        "First read the counts file called GSE60450_normalized_data.csv that is in a folder called data (i.e. the path to the file should be data/GSE60450_normalized_data.csv).\n"
      ],
      "id": "5fdcf54a"
    },
    {
      "cell_type": "code",
      "metadata": {},
      "source": [
        "#| eval: false\n",
        "#| classes: scrolling\n",
        "#| warning: false\n",
        "counts = pd.read_csv(\"data/GSE60450_normalized_data.csv\")\n",
        "counts.head()"
      ],
      "id": "adee9cdb",
      "execution_count": null,
      "outputs": []
    },
    {
      "cell_type": "markdown",
      "metadata": {},
      "source": [
        "```{=html}\n",
        "<details>\n",
        "<summary>Output</summary>\n",
        "```"
      ],
      "id": "a1d83c54"
    },
    {
      "cell_type": "code",
      "metadata": {},
      "source": [
        "#| echo: false\n",
        "#| classes: scrolling\n",
        "#| warning: false\n",
        "counts = pd.read_csv(\"data/GSE60450_normalized_data.csv\")\n",
        "counts.head()"
      ],
      "id": "88f6aa66",
      "execution_count": null,
      "outputs": []
    },
    {
      "cell_type": "markdown",
      "metadata": {},
      "source": [
        "```{=html}\n",
        "</details>\n",
        "```\n",
        "\n",
        "\n",
        "\n",
        "\n",
        "To transform this table from a wide format to a long format, we use the `melt()` function. It's important to note that this function does not create tidy data as it duplicates rows. However, the output in 'long format' from `melt()` is often necessary for visualization and for left join, which will be introduced later.\n",
        "\n",
        "This operation will convert multiple columns with counts for each sample into a single column containing all the expression values, as illustrated in the image below.\n",
        "\n",
        "![](images/piv-long.png){fig-align=\"center\"}\n",
        "\n",
        "The `melt()` function takes four arguments:\n",
        "\n",
        "1.  **id_vars =** : Column(s) to use as identifier variables.\n",
        "2.  **value_vars =** : Columns to be unpivot or converted into labels,values in long form. If not specified, uses all columns that are not set as **id_vars =**.\n",
        "3.  **var_name =** : a name(s) for the new column(s) containing the labels from the specified columns.\n",
        "4.  **value_name =**: a name(s) for the new column(s) containing the values corresponding to the specified columns.\n"
      ],
      "id": "4805cd27"
    },
    {
      "cell_type": "code",
      "metadata": {},
      "source": [
        "#| eval: false\n",
        "#| classes: scrolling\n",
        "counts.melt(id_vars=['X', 'gene_symbol'], var_name='Sample', value_name='Count')"
      ],
      "id": "60ecba39",
      "execution_count": null,
      "outputs": []
    },
    {
      "cell_type": "markdown",
      "metadata": {},
      "source": [
        "```{=html}\n",
        "<details>\n",
        "<summary>Output</summary>\n",
        "```"
      ],
      "id": "0a0124e2"
    },
    {
      "cell_type": "code",
      "metadata": {},
      "source": [
        "#| echo: false\n",
        "#| classes: scrolling\n",
        "counts.melt(id_vars=['X', 'gene_symbol'], var_name='Sample', value_name='Count')"
      ],
      "id": "d9a20a8a",
      "execution_count": null,
      "outputs": []
    },
    {
      "cell_type": "markdown",
      "metadata": {},
      "source": [
        "```{=html}\n",
        "</details>\n",
        "```"
      ],
      "id": "d76f87f9"
    },
    {
      "cell_type": "code",
      "metadata": {},
      "source": [
        "#| eval: false\n",
        "#| classes: scrolling\n",
        "counts.melt(id_vars='X', value_vars=counts.columns[counts.columns.str.startswith('GSM')], var_name='Sample', value_name='Count')"
      ],
      "id": "993d7610",
      "execution_count": null,
      "outputs": []
    },
    {
      "cell_type": "markdown",
      "metadata": {},
      "source": [
        "```{=html}\n",
        "<details>\n",
        "<summary>Output</summary>\n",
        "```"
      ],
      "id": "9d76b4e2"
    },
    {
      "cell_type": "code",
      "metadata": {},
      "source": [
        "#| echo: false\n",
        "#| classes: scrolling\n",
        "counts.melt(id_vars='X', value_vars=counts.columns[counts.columns.str.startswith('GSM')], var_name='Sample', value_name='Count')"
      ],
      "id": "0be3894d",
      "execution_count": null,
      "outputs": []
    },
    {
      "cell_type": "markdown",
      "metadata": {},
      "source": [
        "```{=html}\n",
        "</details>\n",
        "```\n",
        "\n",
        "\n",
        "\n",
        "\n",
        "The `counts.columns[counts.columns.str.startswith('GSM')]` command returns a vector of columns whose names starts with 'GSM'. `melt()` will then transform those columns into two new columns, denoted as \"Sample\" and \"Count.\" The parameter `var_name = 'Sample'` indicates the new column containing the specified columns (defined by cols) should be named \"Sample,\" while `value_name = 'Count'` specifies that the new column containing the values should be named \"Count\".\n",
        "\n",
        "\n",
        "### Converting data from long to wide format\n",
        "\n",
        "First, read the annotation file called GSE60450_annotation.csv (the path to the file should be data/GSE60450_annotation.csv).\n"
      ],
      "id": "078438ae"
    },
    {
      "cell_type": "code",
      "metadata": {},
      "source": [
        "#| eval: false\n",
        "#| classes: scrolling\n",
        "#| warning: false\n",
        "annot = pd.read_csv(\"data/GSE60450_annotation.csv\")\n",
        "annot.head()"
      ],
      "id": "f23d3651",
      "execution_count": null,
      "outputs": []
    },
    {
      "cell_type": "markdown",
      "metadata": {},
      "source": [
        "```{=html}\n",
        "<details>\n",
        "<summary>Output</summary>\n",
        "```"
      ],
      "id": "deb05643"
    },
    {
      "cell_type": "code",
      "metadata": {},
      "source": [
        "#| echo: false\n",
        "#| classes: scrolling\n",
        "#| warning: false\n",
        "annot = pd.read_csv(\"data/GSE60450_annotation.csv\")\n",
        "annot.head()"
      ],
      "id": "5e23893a",
      "execution_count": null,
      "outputs": []
    },
    {
      "cell_type": "markdown",
      "metadata": {},
      "source": [
        "```{=html}\n",
        "</details>\n",
        "```\n",
        "\n",
        "\n",
        "\n",
        "\n",
        "To transform this table so that it conforms to the tidy principles, we use the `pivot()` function.\n",
        "\n",
        "This operation will convert multiple rows with type and annotation into columns containing the Symbol and Gene_name, as illustrated in the image below.\n",
        "\n",
        "![](images/piv-wide.png){fig-align=\"center\"}\n",
        "\n",
        "The `pivot()` function takes three arguments:\n",
        "\n",
        "1.  **columns =** : column containing the labels that will be transformed into the new column names.\n",
        "2.  **index =** : column to make new frames' index. If not given, uses existing index.\n",
        "3.  **values =** : column(s) containing the values that will fill the new columns.\n",
        "\n",
        "In our scenario, to reshape the annot data frame, we will use the column names Type and Annotation:\n"
      ],
      "id": "887289f6"
    },
    {
      "cell_type": "code",
      "metadata": {},
      "source": [
        "#| eval: false\n",
        "#| classes: scrolling\n",
        "annot.pivot(index='ENSEMBL', columns='Type', values='Annotation')"
      ],
      "id": "91499669",
      "execution_count": null,
      "outputs": []
    },
    {
      "cell_type": "markdown",
      "metadata": {},
      "source": [
        "```{=html}\n",
        "<details>\n",
        "<summary>Output</summary>\n",
        "```"
      ],
      "id": "ba9e53a3"
    },
    {
      "cell_type": "code",
      "metadata": {},
      "source": [
        "#| echo: false\n",
        "#| classes: scrolling\n",
        "annot.pivot(index='ENSEMBL', columns='Type', values='Annotation')"
      ],
      "id": "c846f280",
      "execution_count": null,
      "outputs": []
    },
    {
      "cell_type": "markdown",
      "metadata": {},
      "source": [
        "```{=html}\n",
        "</details>\n",
        "```\n",
        "\n",
        "\n",
        "\n",
        "\n",
        "\n",
        "The above operation changes the 'shape' of the dataframe from a longer format (more rows) to a wider format (more columns). While the original table consists of 40 rows, using `pivot()` results in only 20 rows. This reduction is due to the de-duplication of rows during the creation of new columns.\n",
        "\n",
        "It's important to note that since we only have two distinct labels in the Type column, we are essentially replacing the existing two columns with just two new columns. Consequently, the shape of the output doesn't technically become wider than the input data frame. However, when there are more than two unique labels in the `columns=` column, the output will indeed become wider compared to the input.\n",
        "\n",
        "### Separate Columns\n",
        "\n",
        "First, read the metadata file called GSE60450_metadata.csv (the path to the file should be data/GSE60450_metadata.csv).\n"
      ],
      "id": "977bc3ef"
    },
    {
      "cell_type": "code",
      "metadata": {},
      "source": [
        "#| eval: false\n",
        "#| classes: scrolling\n",
        "#| warning: false\n",
        "metadata = pd.read_csv(\"data/GSE60450_metadata.csv\")\n",
        "metadata.head()"
      ],
      "id": "bcc4486b",
      "execution_count": null,
      "outputs": []
    },
    {
      "cell_type": "markdown",
      "metadata": {},
      "source": [
        "```{=html}\n",
        "<details>\n",
        "<summary>Output</summary>\n",
        "```"
      ],
      "id": "b6ba70f4"
    },
    {
      "cell_type": "code",
      "metadata": {},
      "source": [
        "#| echo: false\n",
        "#| classes: scrolling\n",
        "#| warning: false\n",
        "metadata = pd.read_csv(\"data/GSE60450_metadata.csv\")\n",
        "metadata.head()"
      ],
      "id": "ebbb724b",
      "execution_count": null,
      "outputs": []
    },
    {
      "cell_type": "markdown",
      "metadata": {},
      "source": [
        "```{=html}\n",
        "</details>\n",
        "```\n",
        "\n",
        "\n",
        "\n",
        "\n",
        "To transform this table so that it conforms to the tidy principles, we use the `str.split()` function. This operation will separate characteristic column into 3 separate columns containing the tissue_type, immunophenotype and development_stage, as illustrated in the image below.\n",
        "\n",
        "![](images/separate.png){fig-align=\"center\"}\n",
        "\n",
        "To separate characteristic column in the metadata data frame into three separate columns based on the delimeter `;` (semi colon), we can use the `str.split()` function:\n"
      ],
      "id": "26145f54"
    },
    {
      "cell_type": "code",
      "metadata": {},
      "source": [
        "#| eval: false\n",
        "#| classes: scrolling\n",
        "# split characteristic column into 3 strings based on delimeter ; and update the metadata dataframe\n",
        "metadata[[\"tissue_type\", \"immunophenotype\", \"development_stage\"]] = metadata.characteristics.str.split(';', expand=True)\n",
        "# remove characteristics column\n",
        "metadata = metadata.drop(columns='characteristics')\n",
        "metadata"
      ],
      "id": "3509a895",
      "execution_count": null,
      "outputs": []
    },
    {
      "cell_type": "markdown",
      "metadata": {},
      "source": [
        "```{=html}\n",
        "<details>\n",
        "<summary>Output</summary>\n",
        "```"
      ],
      "id": "0cf50eda"
    },
    {
      "cell_type": "code",
      "metadata": {},
      "source": [
        "#| echo: false\n",
        "#| classes: scrolling\n",
        "metadata[[\"tissue_type\", \"immunophenotype\", \"development_stage\"]] = metadata.characteristics.str.split(';', expand=True)\n",
        "# remove characteristics column\n",
        "metadata = metadata.drop(columns='characteristics')\n",
        "metadata"
      ],
      "id": "408aa52d",
      "execution_count": null,
      "outputs": []
    },
    {
      "cell_type": "markdown",
      "metadata": {},
      "source": [
        "```{=html}\n",
        "</details>\n",
        "```\n",
        "\n",
        "\n",
        "\n",
        "\n",
        "### Uniting Columns\n",
        "\n",
        "This is the complement of separate. Therefore, let's revert what we did in the previous section to combine multiple columns to a single column as illustrated in the image below.\n",
        "\n",
        "![](images/unite.png){fig-align=\"center\"}\n",
        "\n",
        "To combine tissue type, immunophenotype, and development stage columns into characteristic column in the metadata dataframe:\n"
      ],
      "id": "29a7d3c3"
    },
    {
      "cell_type": "code",
      "metadata": {},
      "source": [
        "#| eval: false\n",
        "#| classes: scrolling\n",
        "metadata['characteristics'] = metadata.tissue_type.str.cat(metadata[['immunophenotype','development_stage']], sep = ';')\n",
        "# remove tissue type, immunophenotype, and development stage columns\n",
        "metadata = metadata.drop(columns=['tissue_type','immunophenotype','development_stage'])\n",
        "metadata"
      ],
      "id": "b87534d8",
      "execution_count": null,
      "outputs": []
    },
    {
      "cell_type": "markdown",
      "metadata": {},
      "source": [
        "```{=html}\n",
        "<details>\n",
        "<summary>Output</summary>\n",
        "```"
      ],
      "id": "09f8fe70"
    },
    {
      "cell_type": "code",
      "metadata": {},
      "source": [
        "#| echo: false\n",
        "#| classes: scrolling\n",
        "metadata['characteristics'] = metadata.tissue_type.str.cat(metadata[['immunophenotype','development_stage']], sep = ';')\n",
        "# another method\n",
        "# metadata.characteristics = metadata.tissue_type + ';' + metadata.immunophenotype + ';' + metadata.development_stage\n",
        "metadata"
      ],
      "id": "ebe5c211",
      "execution_count": null,
      "outputs": []
    },
    {
      "cell_type": "markdown",
      "metadata": {},
      "source": [
        "```{=html}\n",
        "</details>\n",
        "```\n",
        "\n",
        "\n",
        "\n",
        "\n",
        "A quick and easy method to unite columns using the `+` operator:\n"
      ],
      "id": "90733f9c"
    },
    {
      "cell_type": "code",
      "metadata": {},
      "source": [
        "#| eval: false\n",
        "#| classes: scrolling\n",
        "metadata.characteristics = metadata.tissue_type + ';' + metadata.immunophenotype + ';' + metadata.development_stage\n",
        "# remove tissue type, immunophenotype, and development stage columns\n",
        "metadata = metadata.drop(columns=['tissue_type','immunophenotype','development_stage'])\n",
        "metadata"
      ],
      "id": "911c25bb",
      "execution_count": null,
      "outputs": []
    },
    {
      "cell_type": "markdown",
      "metadata": {},
      "source": [
        "Since we have already updated the `metadata` DataFrame to combine columns in the previous example, this code will not work. The tissue type, immunophenotype, and development stage columns are no longer available in the DataFrame as we combined them to create the characteristics column.\n",
        "\n",
        "## Joining Data\n",
        "\n",
        "Pandas provides two primary methods for combining DataFrames: concat and merge. These methods allow you to combine DataFrames along rows and columns, and they support various types of joins, including inner, left, right, and outer joins. Here's an explanation of both methods and the types of joins they support:\n",
        "\n",
        "### `concat`\n",
        "\n",
        "The `concat` method is used for concatenating (stacking) DataFrames along a particular axis, which can be either rows or columns. It's particularly useful when you want to combine DataFrames with the same structure along a common axis. It does not require a common key to merge DataFrames, as it is primarily for stacking them.\n",
        "\n",
        "Consider the following three DataFrames,\n"
      ],
      "id": "949bb3f9"
    },
    {
      "cell_type": "code",
      "metadata": {},
      "source": [
        "df1 = pd.DataFrame({'A': ['A0', 'A1', 'A2'],\n",
        "                    'B': ['B0', 'B1', 'B2']})\n",
        "                    \n",
        "df2 = pd.DataFrame({'A': ['A3', 'A4', 'A5'],\n",
        "                    'B': ['B3', 'B4', 'B5']})\n",
        "\n",
        "df3 = pd.DataFrame({'C': ['C0', 'C1', 'C2'],\n",
        "                    'D': ['D0', 'D1', 'D2']})"
      ],
      "id": "95c055e6",
      "execution_count": null,
      "outputs": []
    },
    {
      "cell_type": "markdown",
      "metadata": {},
      "source": [
        "-   Concatenate along rows (vertically)\n",
        "\n",
        ":::: {.columns}\n",
        "\n",
        "::: {.column width=\"45%\"}\n"
      ],
      "id": "243e7d25"
    },
    {
      "cell_type": "code",
      "metadata": {},
      "source": [
        "df1"
      ],
      "id": "47451aa0",
      "execution_count": null,
      "outputs": []
    },
    {
      "cell_type": "markdown",
      "metadata": {},
      "source": [
        ":::\n",
        "\n",
        "::: {.column width=\"10%\"}\n",
        "<!-- empty column to create gap -->\n",
        ":::\n",
        "\n",
        "::: {.column width=\"45%\"}\n"
      ],
      "id": "089e0e58"
    },
    {
      "cell_type": "code",
      "metadata": {},
      "source": [
        "df2"
      ],
      "id": "9cd265f2",
      "execution_count": null,
      "outputs": []
    },
    {
      "cell_type": "markdown",
      "metadata": {},
      "source": [
        ":::\n",
        "\n",
        "::::\n"
      ],
      "id": "1ef74331"
    },
    {
      "cell_type": "code",
      "metadata": {},
      "source": [
        "pd.concat([df1, df2], axis=0)"
      ],
      "id": "7a7339cb",
      "execution_count": null,
      "outputs": []
    },
    {
      "cell_type": "markdown",
      "metadata": {},
      "source": [
        "-   Concatenating along columns (horizontally)\n",
        "\n",
        ":::: {.columns}\n",
        "\n",
        "::: {.column width=\"45%\"}\n"
      ],
      "id": "351dc3ee"
    },
    {
      "cell_type": "code",
      "metadata": {},
      "source": [
        "df1"
      ],
      "id": "279c867d",
      "execution_count": null,
      "outputs": []
    },
    {
      "cell_type": "markdown",
      "metadata": {},
      "source": [
        ":::\n",
        "\n",
        "::: {.column width=\"10%\"}\n",
        "<!-- empty column to create gap -->\n",
        ":::\n",
        "\n",
        "::: {.column width=\"45%\"}\n"
      ],
      "id": "764fbc44"
    },
    {
      "cell_type": "code",
      "metadata": {},
      "source": [
        "df3"
      ],
      "id": "13a69922",
      "execution_count": null,
      "outputs": []
    },
    {
      "cell_type": "markdown",
      "metadata": {},
      "source": [
        ":::\n",
        "\n",
        "::::\n"
      ],
      "id": "d37af0b7"
    },
    {
      "cell_type": "code",
      "metadata": {},
      "source": [
        "pd.concat([df1, df3], axis=1)"
      ],
      "id": "5529d6af",
      "execution_count": null,
      "outputs": []
    },
    {
      "cell_type": "markdown",
      "metadata": {},
      "source": [
        "### `merge`\n",
        "\n",
        "The `merge` method is used for merging DataFrames based on common columns or indexes, similar to SQL joins. It's especially useful when you have different DataFrames with related data and want to combine them based on a shared key.\n",
        "\n",
        "Consider the following two DataFrames,\n"
      ],
      "id": "1a5f9107"
    },
    {
      "cell_type": "code",
      "metadata": {},
      "source": [
        "left = pd.DataFrame({\n",
        "         \"key1\": [\"K0\", \"K0\", \"K1\", \"K2\"],\n",
        "         \"key2\": [\"K0\", \"K1\", \"K0\", \"K1\"],\n",
        "         \"A\": [\"A0\", \"A1\", \"A2\", \"A3\"],\n",
        "         \"B\": [\"B0\", \"B1\", \"B2\", \"B3\"],\n",
        "     })\n",
        "right = pd.DataFrame({\n",
        "         \"key1\": [\"K0\", \"K1\", \"K1\", \"K2\"],\n",
        "         \"key2\": [\"K0\", \"K0\", \"K0\", \"K0\"],\n",
        "         \"C\": [\"C0\", \"C1\", \"C2\", \"C3\"],\n",
        "         \"D\": [\"D0\", \"D1\", \"D2\", \"D3\"],\n",
        "     })"
      ],
      "id": "09643dbc",
      "execution_count": null,
      "outputs": []
    },
    {
      "cell_type": "markdown",
      "metadata": {},
      "source": [
        "#### Inner join\n",
        "\n",
        "An inner join returns only the rows with matching values in the specified columns (the common key). It combines data from two or more tables or DataFrames based on the intersection of keys, excluding rows that do not have corresponding matches in both tables.\n",
        "\n",
        "![](images/inner_join.png){width=\"250\" fig-align=\"center\"}\n",
        "\n",
        ":::: {.columns}\n",
        "\n",
        "::: {.column width=\"45%\"}\n"
      ],
      "id": "1c393569"
    },
    {
      "cell_type": "code",
      "metadata": {},
      "source": [
        "left"
      ],
      "id": "b125f91a",
      "execution_count": null,
      "outputs": []
    },
    {
      "cell_type": "markdown",
      "metadata": {},
      "source": [
        ":::\n",
        "\n",
        "::: {.column width=\"10%\"}\n",
        "<!-- empty column to create gap -->\n",
        ":::\n",
        "\n",
        "::: {.column width=\"45%\"}\n"
      ],
      "id": "2cef0c29"
    },
    {
      "cell_type": "code",
      "metadata": {},
      "source": [
        "right"
      ],
      "id": "85221d82",
      "execution_count": null,
      "outputs": []
    },
    {
      "cell_type": "markdown",
      "metadata": {},
      "source": [
        ":::\n",
        "\n",
        "::::\n"
      ],
      "id": "133e9fcf"
    },
    {
      "cell_type": "code",
      "metadata": {},
      "source": [
        "pd.merge(left, right, how=\"inner\", on=[\"key1\", \"key2\"])"
      ],
      "id": "65093d76",
      "execution_count": null,
      "outputs": []
    },
    {
      "cell_type": "markdown",
      "metadata": {},
      "source": [
        "#### Outer join\n",
        "\n",
        "An outer join returns all rows from both tables, including rows with matching keys and rows with non-matching keys. When there's no match for a particular row in one of the tables, the missing values are filled with NULL (or NaN in pandas), indicating no corresponding data.\n",
        "\n",
        "![](images/full_outer_join.png){width=\"250\" fig-align=\"center\"}\n",
        "\n",
        ":::: {.columns}\n",
        "\n",
        "::: {.column width=\"45%\"}\n"
      ],
      "id": "405bc333"
    },
    {
      "cell_type": "code",
      "metadata": {},
      "source": [
        "left"
      ],
      "id": "d590a0dd",
      "execution_count": null,
      "outputs": []
    },
    {
      "cell_type": "markdown",
      "metadata": {},
      "source": [
        ":::\n",
        "\n",
        "::: {.column width=\"10%\"}\n",
        "<!-- empty column to create gap -->\n",
        ":::\n",
        "\n",
        "::: {.column width=\"45%\"}\n"
      ],
      "id": "0ec21486"
    },
    {
      "cell_type": "code",
      "metadata": {},
      "source": [
        "right"
      ],
      "id": "4994ba04",
      "execution_count": null,
      "outputs": []
    },
    {
      "cell_type": "markdown",
      "metadata": {},
      "source": [
        ":::\n",
        "\n",
        "::::\n"
      ],
      "id": "65ab2790"
    },
    {
      "cell_type": "code",
      "metadata": {},
      "source": [
        "pd.merge(left, right, how=\"outer\", on=[\"key1\", \"key2\"])"
      ],
      "id": "9f27defc",
      "execution_count": null,
      "outputs": []
    },
    {
      "cell_type": "markdown",
      "metadata": {},
      "source": [
        "#### Left join\n",
        "\n",
        "A left join returns all rows from the left table (the first table specified) and matching rows from the right table (the second table specified). Non-matching rows in the right table have NULL (or NaN) values in the result.\n",
        "\n",
        "![](images/left_join.png){width=\"250\" fig-align=\"center\"}\n",
        "\n",
        ":::: {.columns}\n",
        "\n",
        "::: {.column width=\"45%\"}\n"
      ],
      "id": "1225e294"
    },
    {
      "cell_type": "code",
      "metadata": {},
      "source": [
        "left"
      ],
      "id": "39550d11",
      "execution_count": null,
      "outputs": []
    },
    {
      "cell_type": "markdown",
      "metadata": {},
      "source": [
        ":::\n",
        "\n",
        "::: {.column width=\"10%\"}\n",
        "<!-- empty column to create gap -->\n",
        ":::\n",
        "\n",
        "::: {.column width=\"45%\"}\n"
      ],
      "id": "03b54431"
    },
    {
      "cell_type": "code",
      "metadata": {},
      "source": [
        "right"
      ],
      "id": "b6f0f846",
      "execution_count": null,
      "outputs": []
    },
    {
      "cell_type": "markdown",
      "metadata": {},
      "source": [
        ":::\n",
        "\n",
        "::::\n"
      ],
      "id": "0c036672"
    },
    {
      "cell_type": "code",
      "metadata": {},
      "source": [
        "pd.merge(left, right, how=\"left\", on=[\"key1\", \"key2\"])"
      ],
      "id": "f98e8435",
      "execution_count": null,
      "outputs": []
    },
    {
      "cell_type": "markdown",
      "metadata": {},
      "source": [
        "#### Right join\n",
        "\n",
        "A right join is similar to a left join but returns all rows from the right table and matching rows from the left table. Non-matching rows in the left table have NULL (or NaN) values in the result.\n",
        "\n",
        "![](images/right_join.png){width=\"250\" fig-align=\"center\"}\n",
        "\n",
        ":::: {.columns}\n",
        "\n",
        "::: {.column width=\"45%\"}\n"
      ],
      "id": "9657bd6f"
    },
    {
      "cell_type": "code",
      "metadata": {},
      "source": [
        "left"
      ],
      "id": "6a838611",
      "execution_count": null,
      "outputs": []
    },
    {
      "cell_type": "markdown",
      "metadata": {},
      "source": [
        ":::\n",
        "\n",
        "::: {.column width=\"10%\"}\n",
        "<!-- empty column to create gap -->\n",
        ":::\n",
        "\n",
        "::: {.column width=\"45%\"}\n"
      ],
      "id": "dba89fb4"
    },
    {
      "cell_type": "code",
      "metadata": {},
      "source": [
        "right"
      ],
      "id": "5b1ce257",
      "execution_count": null,
      "outputs": []
    },
    {
      "cell_type": "markdown",
      "metadata": {},
      "source": [
        ":::\n",
        "\n",
        "::::\n"
      ],
      "id": "2267b3f7"
    },
    {
      "cell_type": "code",
      "metadata": {},
      "source": [
        "pd.merge(left, right, how=\"right\", on=[\"key1\", \"key2\"])"
      ],
      "id": "cb87fa7d",
      "execution_count": null,
      "outputs": []
    },
    {
      "cell_type": "markdown",
      "metadata": {},
      "source": [
        "#### Cross join\n",
        "\n",
        "A cross join is used to create all possible combinations of rows from multiple tables or DataFrames. It can be useful in specific situations, such as when you want to generate all possible pairs or combinations of data.\n",
        "\n",
        "![](images/cross-join.png){width=\"300\" fig-align=\"center\"}\n",
        "\n",
        ":::: {.columns}\n",
        "\n",
        "::: {.column width=\"45%\"}\n"
      ],
      "id": "02ef2b87"
    },
    {
      "cell_type": "code",
      "metadata": {},
      "source": [
        "left"
      ],
      "id": "2488db16",
      "execution_count": null,
      "outputs": []
    },
    {
      "cell_type": "markdown",
      "metadata": {},
      "source": [
        ":::\n",
        "\n",
        "::: {.column width=\"10%\"}\n",
        "<!-- empty column to create gap -->\n",
        ":::\n",
        "\n",
        "::: {.column width=\"45%\"}\n"
      ],
      "id": "af6f888b"
    },
    {
      "cell_type": "code",
      "metadata": {},
      "source": [
        "right"
      ],
      "id": "97dc3c0f",
      "execution_count": null,
      "outputs": []
    },
    {
      "cell_type": "markdown",
      "metadata": {},
      "source": [
        ":::\n",
        "\n",
        "::::\n"
      ],
      "id": "03cd0181"
    },
    {
      "cell_type": "code",
      "metadata": {},
      "source": [
        "pd.merge(left, right, how=\"cross\")"
      ],
      "id": "ae321c34",
      "execution_count": null,
      "outputs": []
    },
    {
      "cell_type": "markdown",
      "metadata": {},
      "source": [
        "## String Manipulation in Pandas\n",
        "\n",
        "String manipulation is an essential part of data pre-processing and analysis in Pandas, especially when dealing with textual data. The `str` accessor in Pandas provides a wide range of string functions that allow you to clean, transform, and extract valuable information from text data within a DataFrame.\n",
        "\n",
        "Here, we explore some of the most commonly used string manipulation functions available in Pandas for DataFrames.\n",
        "\n",
        "-   `str.replace()`\n",
        "    Replaces occurrences of a pattern (string or regex) with another string.\n"
      ],
      "id": "5b7914f1"
    },
    {
      "cell_type": "code",
      "metadata": {
        "md-indent": "    "
      },
      "source": [
        "metabric.columns.str.replace(' ','_')  # Replace \"_\" with spaces"
      ],
      "id": "99134d16",
      "execution_count": null,
      "outputs": []
    },
    {
      "cell_type": "markdown",
      "metadata": {},
      "source": [
        "-   `str.contains()`\n",
        "    \n",
        "    Checks if each string contains a specified substring (can use regular expressions).\n"
      ],
      "id": "8c09093c"
    },
    {
      "cell_type": "code",
      "metadata": {
        "md-indent": "    "
      },
      "source": [
        "mask = metabric[\"Facility Name\"].str.contains('GENERAL')\n",
        "metabric[mask]"
      ],
      "id": "af01b39f",
      "execution_count": null,
      "outputs": []
    },
    {
      "cell_type": "code",
      "metadata": {
        "md-indent": "    "
      },
      "source": [
        "col_mask = metabric.columns.str.contains('Rating')\n",
        "metabric.columns[col_mask]"
      ],
      "id": "1e261a59",
      "execution_count": null,
      "outputs": []
    },
    {
      "cell_type": "markdown",
      "metadata": {},
      "source": [
        "    Checks if each string contains a specified regular expression pattern.\n"
      ],
      "id": "c2afb50e"
    },
    {
      "cell_type": "code",
      "metadata": {
        "md-indent": "    "
      },
      "source": [
        "mask_col = metabric.columns.str.contains('[A-Z][a-z]*\\s[A-Z][a-z]{3}$')\n",
        "metabric.columns[mask_col]"
      ],
      "id": "cef46f52",
      "execution_count": null,
      "outputs": []
    },
    {
      "cell_type": "markdown",
      "metadata": {},
      "source": [
        "    Here, the regular expression `[A-Z][a-z]*\\s[A-Z][a-z]{3}$` can be broken down into smaller chunks for better understanding:\n",
        "    -   [A-Z] matches an uppercase character from ‘A’ to ‘Z’.\n",
        "    -   [a-z]* matches a set of lowercase characters from ‘a’ to ‘z’.\n",
        "    -   \\s matches a space.\n",
        "    -   [A-Z] matches an uppercase character from ‘A’ to ‘Z’.\n",
        "    -   [a-z]{3} matches any three lowercase characters from ‘a’ to ‘z’.\n",
        "    -   $ matches the end of the string\n",
        "    \n",
        "    Putting this together, the expression selects column names that contains two words of characters separated by a space with the first character in each word in upper case and the second word have four characters. Thus, it should match column names: Facility Name, Hospital Type, and Response Rate.\n",
        "    \n",
        "    If you’re unfamiliar with regular expressions, you can skip this section for now. However, interested readers can find many online resources to learn about regular expressions. One of my favorite online tools for building and testing regular expressions is https://regexr.com. You can use this tool to test the correctness of a regular expression.\n",
        "\n",
        "-   `str.startswith()` and `str.endswith()`\n",
        "    Checks if each string starts or ends with a specified substring.\n"
      ],
      "id": "617d06a0"
    },
    {
      "cell_type": "code",
      "metadata": {
        "md-indent": "    "
      },
      "source": [
        "mask_county = metabric.County.str.startswith('S')\n",
        "metabric.County[mask_county]"
      ],
      "id": "902ca9c7",
      "execution_count": null,
      "outputs": []
    },
    {
      "cell_type": "code",
      "metadata": {
        "md-indent": "    "
      },
      "source": [
        "mask_col = metabric.columns.str.endswith('e')\n",
        "metabric.columns[mask_col]"
      ],
      "id": "f6db5261",
      "execution_count": null,
      "outputs": []
    },
    {
      "cell_type": "markdown",
      "metadata": {},
      "source": [
        "-   `str.len()`\n",
        "    Returns the length of each string in the Series.\n"
      ],
      "id": "0e72e932"
    },
    {
      "cell_type": "code",
      "metadata": {
        "md-indent": "    "
      },
      "source": [
        "metabric['County'].str.len()"
      ],
      "id": "6d54ce5d",
      "execution_count": null,
      "outputs": []
    },
    {
      "cell_type": "markdown",
      "metadata": {},
      "source": [
        "-   `str.split()`\n",
        "    Splits each string in the Series into a list of substrings based on a specified delimiter.\n"
      ],
      "id": "188a99b3"
    },
    {
      "cell_type": "code",
      "metadata": {
        "md-indent": "    "
      },
      "source": [
        "metabric['Hospital Type'].str.split().str[0]  # Split the Hospital Type column and take the first part"
      ],
      "id": "cb1d64e0",
      "execution_count": null,
      "outputs": []
    },
    {
      "cell_type": "markdown",
      "metadata": {},
      "source": [
        "-   `str.join()`\n",
        "    Concatenates a list of strings into a single string with a specified separator.\n"
      ],
      "id": "2f14155b"
    },
    {
      "cell_type": "code",
      "metadata": {
        "md-indent": "    "
      },
      "source": [
        "metabric[['Facility Name', 'County']].apply(','.join, axis=1)  # Join first and last names"
      ],
      "id": "5929046b",
      "execution_count": null,
      "outputs": []
    },
    {
      "cell_type": "markdown",
      "metadata": {},
      "source": [
        "-   `str.find()`\n",
        "    Returns the lowest index of the substring; returns `-1` if not found.\n"
      ],
      "id": "03affafd"
    },
    {
      "cell_type": "code",
      "metadata": {
        "md-indent": "    "
      },
      "source": [
        "metabric['Facility Name'].str.find('MEMORIAL')"
      ],
      "id": "bd54ae96",
      "execution_count": null,
      "outputs": []
    },
    {
      "cell_type": "markdown",
      "metadata": {},
      "source": [
        "-   `str.zfill()`\n",
        "    Pads each string in the Series with zeros on the left to achieve a specified width.\n"
      ],
      "id": "5037094e"
    },
    {
      "cell_type": "code",
      "metadata": {
        "md-indent": "    "
      },
      "source": [
        "metabric['ID'].astype(str).str.zfill(6)  # Ensure all zip codes have 5 digits"
      ],
      "id": "be1b0977",
      "execution_count": null,
      "outputs": []
    },
    {
      "cell_type": "markdown",
      "metadata": {},
      "source": [
        "-   `str.cat()`\n",
        "    Concatenates strings in the Series/Index with an optional separator.\n"
      ],
      "id": "5d610f17"
    },
    {
      "cell_type": "code",
      "metadata": {
        "md-indent": "    "
      },
      "source": [
        "metabric['Facility Name'].str.cat(metabric['County'], sep='-')"
      ],
      "id": "ff705532",
      "execution_count": null,
      "outputs": []
    },
    {
      "cell_type": "markdown",
      "metadata": {},
      "source": [
        "-   `str.lower()` and `str.upper()`\n",
        "\n",
        "    Converts all characters in a string to lowercase or uppercase, respectively.\n"
      ],
      "id": "b6e20662"
    },
    {
      "cell_type": "code",
      "metadata": {
        "md-indent": "    "
      },
      "source": [
        "metabric[\"Facility Name\"].str.lower() # Convert to lowercase"
      ],
      "id": "075b536c",
      "execution_count": null,
      "outputs": []
    },
    {
      "cell_type": "code",
      "metadata": {
        "md-indent": "    "
      },
      "source": [
        "metabric[\"Hospital Type\"].str.upper() # Convert to uppercase"
      ],
      "id": "96944171",
      "execution_count": null,
      "outputs": []
    },
    {
      "cell_type": "markdown",
      "metadata": {},
      "source": [
        "-   `str.capitalize()` and `str.title()`\n",
        "    - `str.capitalize()` converts the first character of each string to uppercase and the rest to lowercase.\n",
        "    - `str.title()` converts the first character of each word to uppercase and the rest to lowercase.\n"
      ],
      "id": "493777c9"
    },
    {
      "cell_type": "code",
      "metadata": {
        "md-indent": "    "
      },
      "source": [
        "metabric['Facility Name'].str.capitalize()"
      ],
      "id": "ce341fff",
      "execution_count": null,
      "outputs": []
    },
    {
      "cell_type": "code",
      "metadata": {
        "md-indent": "    "
      },
      "source": [
        "metabric['Facility Name'].str.title()"
      ],
      "id": "da0fe396",
      "execution_count": null,
      "outputs": []
    },
    {
      "cell_type": "markdown",
      "metadata": {},
      "source": [
        "This concludes the data manipulation section. By the end of this section, you should now be able to confidently read and write datasets into and from DataFrames, pre-process and clean data, handle missing values, group, join, and transform data, and perform basic statistical analysis to gain insights into the underlying data. \n",
        "\n",
        "In the next section, we will dive into data visualization, where you'll learn how to create insightful and compelling charts and plots using the `plotnine` package to better communicate your findings.\n",
        "\n",
        "\n",
        "\n",
        "\n",
        "---"
      ],
      "id": "fd28ec6f"
    }
  ],
  "metadata": {
    "kernelspec": {
      "name": "quarto-bio",
      "language": "python",
      "display_name": "Python (quarto-bio)",
      "path": "/Users/rajapaksasandun/Library/Jupyter/kernels/quarto-bio"
    }
  },
  "nbformat": 4,
  "nbformat_minor": 5
}